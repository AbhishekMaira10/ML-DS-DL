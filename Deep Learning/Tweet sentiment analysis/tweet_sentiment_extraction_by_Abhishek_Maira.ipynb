{
  "nbformat": 4,
  "nbformat_minor": 0,
  "metadata": {
    "kernelspec": {
      "language": "python",
      "display_name": "Python 3",
      "name": "python3"
    },
    "language_info": {
      "pygments_lexer": "ipython3",
      "nbconvert_exporter": "python",
      "version": "3.6.4",
      "file_extension": ".py",
      "codemirror_mode": {
        "name": "ipython",
        "version": 3
      },
      "name": "python",
      "mimetype": "text/x-python"
    },
    "colab": {
      "name": "tweet-sentiment-extraction-by-Abhishek-Maira.ipynb",
      "provenance": []
    }
  },
  "cells": [
    {
      "cell_type": "code",
      "metadata": {
        "_uuid": "8f2839f25d086af736a60e9eeb907d3b93b6e0e5",
        "_cell_guid": "b1076dfc-b9ad-4769-8c92-a6c4dae69d19",
        "trusted": true,
        "id": "BIxxzND83lGD"
      },
      "source": [
        "# This Python 3 environment comes with many helpful analytics libraries installed\n",
        "# It is defined by the kaggle/python Docker image: https://github.com/kaggle/docker-python\n",
        "# For example, here's several helpful packages to load\n",
        "\n",
        "import numpy as np # linear algebra\n",
        "import pandas as pd # data processing, CSV file I/O (e.g. pd.read_csv)\n",
        "\n",
        "# Input data files are available in the read-only \"../input/\" directory\n",
        "# For example, running this (by clicking run or pressing Shift+Enter) will list all files under the input directory\n",
        "\n",
        "import os\n",
        "for dirname, _, filenames in os.walk('/kaggle/input'):\n",
        "    for filename in filenames:\n",
        "        print(os.path.join(dirname, filename))\n",
        "\n",
        "# You can write up to 20GB to the current directory (/kaggle/working/) that gets preserved as output when you create a version using \"Save & Run All\" \n",
        "# You can also write temporary files to /kaggle/temp/, but they won't be saved outside of the current session"
      ],
      "execution_count": null,
      "outputs": []
    },
    {
      "cell_type": "code",
      "metadata": {
        "trusted": true,
        "id": "l4KCzjuv3lGE"
      },
      "source": [
        "import matplotlib.pyplot as plt\n",
        "import re\n",
        "import string\n",
        "from tqdm import tqdm\n",
        "import time\n",
        "from collections import Counter\n",
        "import seaborn as sns\n",
        "import gensim\n",
        "from nltk.tokenize.treebank import TreebankWordDetokenizer\n",
        "import tensorflow as tf\n",
        "from sklearn.model_selection import train_test_split\n",
        "import keras\n",
        "\n",
        "import nltk\n",
        "import torch\n",
        "import spacy\n",
        "from sklearn.preprocessing import binarize\n",
        "\n",
        "import torch.nn as nn\n",
        "import torch.nn.functional as F\n",
        "import torch.optim as optim\n",
        "from torch.utils.data import random_split, Subset"
      ],
      "execution_count": null,
      "outputs": []
    },
    {
      "cell_type": "code",
      "metadata": {
        "_uuid": "d629ff2d2480ee46fbb7e2d37f6b5fab8052498a",
        "_cell_guid": "79c7e3d0-c299-4dcb-8224-4455121ee9b0",
        "trusted": true,
        "colab": {
          "base_uri": "https://localhost:8080/"
        },
        "id": "12XJuWnR3lGE",
        "outputId": "50160a0a-a360-4b99-a18f-1cbe7b4c38b6"
      },
      "source": [
        "device = torch.device('cuda' if torch.cuda.is_available() else 'cpu')\n",
        "print('Using device:', device)\n",
        "print()"
      ],
      "execution_count": null,
      "outputs": [
        {
          "output_type": "stream",
          "text": [
            "Using device: cpu\n",
            "\n"
          ],
          "name": "stdout"
        }
      ]
    },
    {
      "cell_type": "code",
      "metadata": {
        "trusted": true,
        "id": "VdA9-ZO_3lGE"
      },
      "source": [
        "train = pd.read_csv('train.csv')\n",
        "test = pd.read_csv('test.csv')\n",
        "ss = pd.read_csv('sample_submission.csv')\n",
        "\n",
        "train.dropna(inplace=True)"
      ],
      "execution_count": null,
      "outputs": []
    },
    {
      "cell_type": "code",
      "metadata": {
        "trusted": true,
        "colab": {
          "base_uri": "https://localhost:8080/"
        },
        "id": "SW-QcT6y3lGE",
        "outputId": "3d2f4554-7cfe-4980-fb3c-d3e6d72842ea"
      },
      "source": [
        "print(train.shape)\n",
        "print(test.shape)"
      ],
      "execution_count": null,
      "outputs": [
        {
          "output_type": "stream",
          "text": [
            "(27480, 4)\n",
            "(3534, 3)\n"
          ],
          "name": "stdout"
        }
      ]
    },
    {
      "cell_type": "code",
      "metadata": {
        "colab": {
          "base_uri": "https://localhost:8080/",
          "height": 103
        },
        "id": "Effp6p-n5csz",
        "outputId": "420a5dfa-a581-4ab5-a63f-820360ed5dd7"
      },
      "source": [
        "temp = train.groupby('sentiment').count()['text'].reset_index().sort_values(by='text',ascending=False)\n",
        "temp.style.background_gradient(cmap='Purples')"
      ],
      "execution_count": null,
      "outputs": [
        {
          "output_type": "execute_result",
          "data": {
            "text/html": [
              "<style  type=\"text/css\" >\n",
              "#T_17688d76_2f2e_11eb_8691_0242ac1c0002row0_col1{\n",
              "            background-color:  #3f007d;\n",
              "            color:  #f1f1f1;\n",
              "        }#T_17688d76_2f2e_11eb_8691_0242ac1c0002row1_col1{\n",
              "            background-color:  #dcdcec;\n",
              "            color:  #000000;\n",
              "        }#T_17688d76_2f2e_11eb_8691_0242ac1c0002row2_col1{\n",
              "            background-color:  #fcfbfd;\n",
              "            color:  #000000;\n",
              "        }</style><table id=\"T_17688d76_2f2e_11eb_8691_0242ac1c0002\" ><thead>    <tr>        <th class=\"blank level0\" ></th>        <th class=\"col_heading level0 col0\" >sentiment</th>        <th class=\"col_heading level0 col1\" >text</th>    </tr></thead><tbody>\n",
              "                <tr>\n",
              "                        <th id=\"T_17688d76_2f2e_11eb_8691_0242ac1c0002level0_row0\" class=\"row_heading level0 row0\" >1</th>\n",
              "                        <td id=\"T_17688d76_2f2e_11eb_8691_0242ac1c0002row0_col0\" class=\"data row0 col0\" >neutral</td>\n",
              "                        <td id=\"T_17688d76_2f2e_11eb_8691_0242ac1c0002row0_col1\" class=\"data row0 col1\" >11117</td>\n",
              "            </tr>\n",
              "            <tr>\n",
              "                        <th id=\"T_17688d76_2f2e_11eb_8691_0242ac1c0002level0_row1\" class=\"row_heading level0 row1\" >2</th>\n",
              "                        <td id=\"T_17688d76_2f2e_11eb_8691_0242ac1c0002row1_col0\" class=\"data row1 col0\" >positive</td>\n",
              "                        <td id=\"T_17688d76_2f2e_11eb_8691_0242ac1c0002row1_col1\" class=\"data row1 col1\" >8582</td>\n",
              "            </tr>\n",
              "            <tr>\n",
              "                        <th id=\"T_17688d76_2f2e_11eb_8691_0242ac1c0002level0_row2\" class=\"row_heading level0 row2\" >0</th>\n",
              "                        <td id=\"T_17688d76_2f2e_11eb_8691_0242ac1c0002row2_col0\" class=\"data row2 col0\" >negative</td>\n",
              "                        <td id=\"T_17688d76_2f2e_11eb_8691_0242ac1c0002row2_col1\" class=\"data row2 col1\" >7781</td>\n",
              "            </tr>\n",
              "    </tbody></table>"
            ],
            "text/plain": [
              "<pandas.io.formats.style.Styler at 0x7f3707b50be0>"
            ]
          },
          "metadata": {
            "tags": []
          },
          "execution_count": 10
        }
      ]
    },
    {
      "cell_type": "code",
      "metadata": {
        "colab": {
          "base_uri": "https://localhost:8080/",
          "height": 405
        },
        "id": "R3fkq-Xk5hSa",
        "outputId": "a044e6cb-1304-4273-af52-26725d14207b"
      },
      "source": [
        "plt.figure(figsize=(12,6))\n",
        "sns.countplot(x='sentiment',data=train)"
      ],
      "execution_count": null,
      "outputs": [
        {
          "output_type": "execute_result",
          "data": {
            "text/plain": [
              "<matplotlib.axes._subplots.AxesSubplot at 0x7f3707e733c8>"
            ]
          },
          "metadata": {
            "tags": []
          },
          "execution_count": 13
        },
        {
          "output_type": "display_data",
          "data": {
            "image/png": "[encoded data removed]",
            "text/plain": [
              "<Figure size 864x432 with 1 Axes>"
            ]
          },
          "metadata": {
            "tags": [],
            "needs_background": "light"
          }
        }
      ]
    },
    {
      "cell_type": "code",
      "metadata": {
        "trusted": true,
        "id": "GWFi25pb3lGE"
      },
      "source": [
        "def jaccard(str1, str2): \n",
        "    a = set(str1.lower().split()) \n",
        "    b = set(str2.lower().split())\n",
        "    c = a.intersection(b)\n",
        "    if (len(a) + len(b) - len(c)) == 0:\n",
        "        return 0\n",
        "    return float(len(c)) / (len(a) + len(b) - len(c))\n",
        "\n",
        "def evaluate(true, pred):\n",
        "    jac = 0\n",
        "    for s1, s2 in zip(true, pred):\n",
        "        jac += jaccard(s1, s2)\n",
        "    jac /= len(true)\n",
        "    return jac"
      ],
      "execution_count": null,
      "outputs": []
    },
    {
      "cell_type": "code",
      "metadata": {
        "trusted": true,
        "colab": {
          "base_uri": "https://localhost:8080/"
        },
        "id": "4uJ6d7L43lGF",
        "outputId": "b605afeb-3cc5-4023-83c8-1ef4c542cb10"
      },
      "source": [
        "text = '2am feedings for the baby are fun when he is all smiles and coos'.split()\n",
        "selected_text = '2am feedings for the baby are fun when he is all smiles and coos'.split()\n",
        "\n",
        "print(text)\n",
        "print(selected_text)\n",
        "1*np.isin(text, selected_text).astype(int)"
      ],
      "execution_count": null,
      "outputs": [
        {
          "output_type": "stream",
          "text": [
            "['2am', 'feedings', 'for', 'the', 'baby', 'are', 'fun', 'when', 'he', 'is', 'all', 'smiles', 'and', 'coos']\n",
            "['2am', 'feedings', 'for', 'the', 'baby', 'are', 'fun', 'when', 'he', 'is', 'all', 'smiles', 'and', 'coos']\n"
          ],
          "name": "stdout"
        },
        {
          "output_type": "execute_result",
          "data": {
            "text/plain": [
              "array([1, 1, 1, 1, 1, 1, 1, 1, 1, 1, 1, 1, 1, 1])"
            ]
          },
          "metadata": {
            "tags": []
          },
          "execution_count": 15
        }
      ]
    },
    {
      "cell_type": "code",
      "metadata": {
        "trusted": true,
        "colab": {
          "base_uri": "https://localhost:8080/",
          "height": 255
        },
        "id": "3DlxrWgL3lGF",
        "outputId": "265a7b78-4cd8-4c34-d80f-6884d3c6a7cb"
      },
      "source": [
        "test.head()"
      ],
      "execution_count": null,
      "outputs": [
        {
          "output_type": "execute_result",
          "data": {
            "text/html": [
              "<div>\n",
              "<style scoped>\n",
              "    .dataframe tbody tr th:only-of-type {\n",
              "        vertical-align: middle;\n",
              "    }\n",
              "\n",
              "    .dataframe tbody tr th {\n",
              "        vertical-align: top;\n",
              "    }\n",
              "\n",
              "    .dataframe thead th {\n",
              "        text-align: right;\n",
              "    }\n",
              "</style>\n",
              "<table border=\"1\" class=\"dataframe\">\n",
              "  <thead>\n",
              "    <tr style=\"text-align: right;\">\n",
              "      <th></th>\n",
              "      <th>textID</th>\n",
              "      <th>text</th>\n",
              "      <th>sentiment</th>\n",
              "      <th>text_clean</th>\n",
              "      <th>selected_text_clean</th>\n",
              "    </tr>\n",
              "  </thead>\n",
              "  <tbody>\n",
              "    <tr>\n",
              "      <th>0</th>\n",
              "      <td>f87dea47db</td>\n",
              "      <td>Last session of the day  http://twitpic.com/67ezh</td>\n",
              "      <td>neutral</td>\n",
              "      <td>last session of the day</td>\n",
              "      <td></td>\n",
              "    </tr>\n",
              "    <tr>\n",
              "      <th>1</th>\n",
              "      <td>96d74cb729</td>\n",
              "      <td>Shanghai is also really exciting (precisely -...</td>\n",
              "      <td>positive</td>\n",
              "      <td>shanghai is also really exciting precisely sky...</td>\n",
              "      <td></td>\n",
              "    </tr>\n",
              "    <tr>\n",
              "      <th>2</th>\n",
              "      <td>eee518ae67</td>\n",
              "      <td>Recession hit Veronique Branquinho, she has to...</td>\n",
              "      <td>negative</td>\n",
              "      <td>recession hit veronique branquinho she has to ...</td>\n",
              "      <td></td>\n",
              "    </tr>\n",
              "    <tr>\n",
              "      <th>3</th>\n",
              "      <td>01082688c6</td>\n",
              "      <td>happy bday!</td>\n",
              "      <td>positive</td>\n",
              "      <td>happy bday</td>\n",
              "      <td></td>\n",
              "    </tr>\n",
              "    <tr>\n",
              "      <th>4</th>\n",
              "      <td>33987a8ee5</td>\n",
              "      <td>http://twitpic.com/4w75p - I like it!!</td>\n",
              "      <td>positive</td>\n",
              "      <td>i like it</td>\n",
              "      <td></td>\n",
              "    </tr>\n",
              "  </tbody>\n",
              "</table>\n",
              "</div>"
            ],
            "text/plain": [
              "       textID  ... selected_text_clean\n",
              "0  f87dea47db  ...                    \n",
              "1  96d74cb729  ...                    \n",
              "2  eee518ae67  ...                    \n",
              "3  01082688c6  ...                    \n",
              "4  33987a8ee5  ...                    \n",
              "\n",
              "[5 rows x 5 columns]"
            ]
          },
          "metadata": {
            "tags": []
          },
          "execution_count": 16
        }
      ]
    },
    {
      "cell_type": "code",
      "metadata": {
        "id": "WOV7VT-O6ui7"
      },
      "source": [
        "from tensorflow.keras.preprocessing.text import Tokenizer\n",
        "from tensorflow.keras.preprocessing.sequence import pad_sequences\n",
        "from tensorflow.keras.layers import Dense, Input, GlobalAveragePooling1D, Dropout, SpatialDropout1D\n",
        "#RNN\n",
        "from tensorflow.keras.layers import LSTM, Embedding\n",
        "from tensorflow.keras.models import Model\n",
        "#optimization\n",
        "from tensorflow.keras.optimizers import Adam\n",
        "#to calculate scores\n",
        "from sklearn.metrics import confusion_matrix, classification_report, accuracy_score"
      ],
      "execution_count": null,
      "outputs": []
    },
    {
      "cell_type": "code",
      "metadata": {
        "colab": {
          "base_uri": "https://localhost:8080/",
          "height": 179
        },
        "id": "VOSTOj8V6w3n",
        "outputId": "070ab7bf-88d0-4972-8d77-d0ef5da02559"
      },
      "source": [
        "df=pd.concat([train,test])\n",
        "df['text']=df['text'].astype(str)\n",
        "sent=df.sentiment.unique()\n",
        "colors=['blue','green','red']\n",
        "from wordcloud import WordCloud, STOPWORDS\n",
        "stopwords = set(STOPWORDS)\n",
        "\n",
        "def show_wordcloud(data, title = None,ax=None):\n",
        "    wordcloud = WordCloud(\n",
        "        background_color='white',\n",
        "        stopwords=stopwords,\n",
        "        max_words=100,\n",
        "        max_font_size=30, \n",
        "        scale=3,\n",
        "        random_state=1 \n",
        "        )\n",
        "    \n",
        "    wordcloud=wordcloud.generate(str(data))\n",
        "    ax.imshow(wordcloud,interpolation='nearest')\n",
        "    ax.axis('off')\n",
        "\n",
        "fig,ax=plt.subplots(1,3,figsize=(20,12))\n",
        "for i in range(3):\n",
        "      new=df[df['sentiment']==sent[i]]['text']\n",
        "      show_wordcloud(new,ax=ax[i])\n",
        "      ax[i].set_title(sent[i],color=colors[i])"
      ],
      "execution_count": null,
      "outputs": [
        {
          "output_type": "display_data",
          "data": {
            "image/png": "[encoded data removed]",
            "text/plain": [
              "<Figure size 1440x864 with 3 Axes>"
            ]
          },
          "metadata": {
            "tags": [],
            "needs_background": "light"
          }
        }
      ]
    },
    {
      "cell_type": "code",
      "metadata": {
        "id": "2IaRMFTB69yX"
      },
      "source": [
        "#Filling the null values if there are any\n",
        "train[\"selected_text\"].fillna(\"No content\", inplace = True)"
      ],
      "execution_count": null,
      "outputs": []
    },
    {
      "cell_type": "code",
      "metadata": {
        "id": "OPnjtJ6T7LHT"
      },
      "source": [
        "'''Remove URLs from the tweets\n",
        "Tokenize text\n",
        "Remove emails\n",
        "Remove new lines characters\n",
        "Remove distracting single quotes\n",
        "Remove all punctuation signs\n",
        "Lowercase all text\n",
        "Detokenize text\n",
        "Convert list of texts to Numpy array'''\n",
        "\n",
        "def depure_data(data):\n",
        "\n",
        "    #URL/Link removal\n",
        "    url_pattern = re.compile(r'https?://\\S+|www\\.\\S+')\n",
        "    data = url_pattern.sub(r'', data)\n",
        "\n",
        "    # Emailremoval\n",
        "    data = re.sub('\\S*@\\S*\\s?', '', data)\n",
        "\n",
        "    # Remove new line characters\n",
        "    data = re.sub('\\s+', ' ', data)\n",
        "\n",
        "    # Remove distracting single quotes\n",
        "    data = re.sub(\"\\'\", \"\", data)\n",
        "        \n",
        "    return data\n"
      ],
      "execution_count": null,
      "outputs": []
    },
    {
      "cell_type": "code",
      "metadata": {
        "colab": {
          "base_uri": "https://localhost:8080/"
        },
        "id": "JDjhQoO_7Sn8",
        "outputId": "380f735c-9bbd-428c-9405-264ddbe41347"
      },
      "source": [
        "temp = []\n",
        "data_to_list = train['selected_text'].values.tolist()\n",
        "for i in range(len(data_to_list)):\n",
        "    temp.append(depure_data(data_to_list[i]))\n",
        "list(temp[:5])"
      ],
      "execution_count": null,
      "outputs": [
        {
          "output_type": "execute_result",
          "data": {
            "text/plain": [
              "['I`d have responded, if I were going',\n",
              " 'Sooo SAD',\n",
              " 'bullying me',\n",
              " 'leave me alone',\n",
              " 'Sons of ****,']"
            ]
          },
          "metadata": {
            "tags": []
          },
          "execution_count": 21
        }
      ]
    },
    {
      "cell_type": "code",
      "metadata": {
        "colab": {
          "base_uri": "https://localhost:8080/"
        },
        "id": "etgv5D3M7Umm",
        "outputId": "9112848a-612b-4523-cfd6-1b22e5ac661a"
      },
      "source": [
        "# deacc=True removes punctuations\n",
        "def sent_to_words(sentences):\n",
        "    for sentence in sentences:\n",
        "        yield(gensim.utils.simple_preprocess(str(sentence), deacc=True))  \n",
        "        \n",
        "\n",
        "data_words = list(sent_to_words(temp))\n",
        "\n",
        "print(data_words[:10])"
      ],
      "execution_count": null,
      "outputs": [
        {
          "output_type": "stream",
          "text": [
            "[['have', 'responded', 'if', 'were', 'going'], ['sooo', 'sad'], ['bullying', 'me'], ['leave', 'me', 'alone'], ['sons', 'of'], ['some', 'shameless', 'plugging', 'for', 'the', 'best', 'rangers', 'forum', 'on', 'earth'], ['fun'], ['soooo', 'high'], ['both', 'of', 'you'], ['wow', 'just', 'became', 'cooler']]\n"
          ],
          "name": "stdout"
        }
      ]
    },
    {
      "cell_type": "code",
      "metadata": {
        "colab": {
          "base_uri": "https://localhost:8080/"
        },
        "id": "_0FMrV-Q7snu",
        "outputId": "26050a8b-e79d-4182-cb56-3345f0d61718"
      },
      "source": [
        "def detokenize(text):\n",
        "    return TreebankWordDetokenizer().detokenize(text)\n",
        "\n",
        "data = []\n",
        "for i in range(len(data_words)):\n",
        "    data.append(detokenize(data_words[i]))\n",
        "print(data[:5])"
      ],
      "execution_count": null,
      "outputs": [
        {
          "output_type": "stream",
          "text": [
            "['have responded if were going', 'sooo sad', 'bullying me', 'leave me alone', 'sons of']\n"
          ],
          "name": "stdout"
        }
      ]
    },
    {
      "cell_type": "code",
      "metadata": {
        "id": "5QXQdp6k8CtZ"
      },
      "source": [
        "data = np.array(data)"
      ],
      "execution_count": null,
      "outputs": []
    },
    {
      "cell_type": "code",
      "metadata": {
        "id": "vOzpp0HB8HGz"
      },
      "source": [
        "#Dataset is categorical\n",
        "#convert the sentiment labels to a float type\n",
        "#implementing to_categorical method from Keras.\n",
        "labels = np.array(train['sentiment'])\n",
        "y = []\n",
        "for i in range(len(labels)):\n",
        "    if labels[i] == 'neutral':\n",
        "        y.append(0)\n",
        "    if labels[i] == 'negative':\n",
        "        y.append(1)\n",
        "    if labels[i] == 'positive':\n",
        "        y.append(2)\n",
        "y = np.array(y)\n",
        "labels = tf.keras.utils.to_categorical(y, 3, dtype=\"float32\")\n",
        "del y"
      ],
      "execution_count": null,
      "outputs": []
    },
    {
      "cell_type": "code",
      "metadata": {
        "colab": {
          "base_uri": "https://localhost:8080/"
        },
        "id": "-jlYV9Pl8QZA",
        "outputId": "b474c0ba-121e-4152-992b-d9a474483215"
      },
      "source": [
        "print(len(labels))"
      ],
      "execution_count": null,
      "outputs": [
        {
          "output_type": "stream",
          "text": [
            "27475\n"
          ],
          "name": "stdout"
        }
      ]
    },
    {
      "cell_type": "code",
      "metadata": {
        "id": "XC64bjC98SYR"
      },
      "source": [
        "#implementing the Keras tokenizer \n",
        "#transform text data into 3D float data\n",
        "from keras.models import Sequential\n",
        "from keras import layers\n",
        "from keras.optimizers import RMSprop,Adam\n",
        "from keras.preprocessing.text import Tokenizer\n",
        "from keras.preprocessing.sequence import pad_sequences\n",
        "from keras import regularizers\n",
        "from keras import backend as K\n",
        "from keras.callbacks import ModelCheckpoint\n",
        "max_words = 5000\n",
        "max_len = 200\n",
        "\n",
        "tokenizer = Tokenizer(num_words=max_words)\n",
        "tokenizer.fit_on_texts(data)\n",
        "sequences = tokenizer.texts_to_sequences(data)\n",
        "tweets = pad_sequences(sequences, maxlen=max_len)"
      ],
      "execution_count": null,
      "outputs": []
    },
    {
      "cell_type": "code",
      "metadata": {
        "colab": {
          "base_uri": "https://localhost:8080/"
        },
        "id": "rN5agmbP8WTE",
        "outputId": "d07862d6-a243-4eb2-89ff-b62cce6667db"
      },
      "source": [
        "print(tweets)\n",
        "print(labels)"
      ],
      "execution_count": null,
      "outputs": [
        {
          "output_type": "stream",
          "text": [
            "[[   0    0    0 ...   68  146   41]\n",
            " [   0    0    0 ...    0  397   65]\n",
            " [   0    0    0 ...    0    0   11]\n",
            " ...\n",
            " [   0    0    0 ...  372   10    3]\n",
            " [   0    0    0 ...   24  542    4]\n",
            " [   0    0    0 ... 2424  199  657]]\n",
            "[[1. 0. 0.]\n",
            " [0. 1. 0.]\n",
            " [0. 1. 0.]\n",
            " ...\n",
            " [0. 0. 1.]\n",
            " [0. 0. 1.]\n",
            " [1. 0. 0.]]\n"
          ],
          "name": "stdout"
        }
      ]
    },
    {
      "cell_type": "code",
      "metadata": {
        "colab": {
          "base_uri": "https://localhost:8080/"
        },
        "id": "rQAMINRW8xPW",
        "outputId": "7e1001fb-f9fe-442d-d06e-1abb1b306edf"
      },
      "source": [
        "#Splitting the data\n",
        "X_train, X_test, y_train, y_test = train_test_split(tweets,labels, random_state=0)\n",
        "print (len(X_train),len(X_test),len(y_train),len(y_test))"
      ],
      "execution_count": null,
      "outputs": [
        {
          "output_type": "stream",
          "text": [
            "20606 6869 20606 6869\n"
          ],
          "name": "stdout"
        }
      ]
    },
    {
      "cell_type": "code",
      "metadata": {
        "colab": {
          "base_uri": "https://localhost:8080/"
        },
        "id": "9cG0NX_t8ZQQ",
        "outputId": "6ce85bfd-23af-4641-fdf2-ab06595e1d07"
      },
      "source": [
        "#LSTM model\n",
        "model1 = Sequential()\n",
        "model1.add(layers.Embedding(max_words, 20))\n",
        "model1.add(layers.LSTM(15,dropout=0.5))\n",
        "model1.add(layers.Dense(3,activation='softmax'))\n",
        "\n",
        "\n",
        "model1.compile(optimizer='rmsprop',loss='categorical_crossentropy',\n",
        "               metrics=['accuracy'])\n",
        "#Implementing model checkpoins to save the best metric \n",
        "#and do not lose it on training.\n",
        "checkpoint1 = ModelCheckpoint(\"best_model1.hdf5\", \n",
        "                              monitor='val_accuracy', verbose=1,\n",
        "                              save_best_only=True, mode='auto', period=1,\n",
        "                              save_weights_only=False)\n",
        "history = model1.fit(X_train, y_train, epochs=70,\n",
        "                     validation_data=(X_test, y_test),\n",
        "                     callbacks=[checkpoint1])"
      ],
      "execution_count": null,
      "outputs": [
        {
          "output_type": "stream",
          "text": [
            "WARNING:tensorflow:`period` argument is deprecated. Please use `save_freq` to specify the frequency in number of batches seen.\n",
            "Epoch 1/70\n",
            "644/644 [==============================] - ETA: 0s - loss: 0.8205 - accuracy: 0.6262\n",
            "Epoch 00001: val_accuracy improved from -inf to 0.73883, saving model to best_model1.hdf5\n",
            "644/644 [==============================] - 56s 87ms/step - loss: 0.8205 - accuracy: 0.6262 - val_loss: 0.6980 - val_accuracy: 0.7388\n",
            "Epoch 2/70\n",
            "644/644 [==============================] - ETA: 0s - loss: 0.6121 - accuracy: 0.7566\n",
            "Epoch 00002: val_accuracy improved from 0.73883 to 0.79007, saving model to best_model1.hdf5\n",
            "644/644 [==============================] - 56s 87ms/step - loss: 0.6121 - accuracy: 0.7566 - val_loss: 0.5455 - val_accuracy: 0.7901\n",
            "Epoch 3/70\n",
            "644/644 [==============================] - ETA: 0s - loss: 0.5233 - accuracy: 0.7952\n",
            "Epoch 00003: val_accuracy improved from 0.79007 to 0.79371, saving model to best_model1.hdf5\n",
            "644/644 [==============================] - 55s 86ms/step - loss: 0.5233 - accuracy: 0.7952 - val_loss: 0.5021 - val_accuracy: 0.7937\n",
            "Epoch 4/70\n",
            "644/644 [==============================] - ETA: 0s - loss: 0.4824 - accuracy: 0.8136\n",
            "Epoch 00004: val_accuracy improved from 0.79371 to 0.81948, saving model to best_model1.hdf5\n",
            "644/644 [==============================] - 56s 87ms/step - loss: 0.4824 - accuracy: 0.8136 - val_loss: 0.4765 - val_accuracy: 0.8195\n",
            "Epoch 5/70\n",
            "644/644 [==============================] - ETA: 0s - loss: 0.4592 - accuracy: 0.8252\n",
            "Epoch 00005: val_accuracy improved from 0.81948 to 0.82428, saving model to best_model1.hdf5\n",
            "644/644 [==============================] - 53s 82ms/step - loss: 0.4592 - accuracy: 0.8252 - val_loss: 0.4651 - val_accuracy: 0.8243\n",
            "Epoch 6/70\n",
            "644/644 [==============================] - ETA: 0s - loss: 0.4442 - accuracy: 0.8302\n",
            "Epoch 00006: val_accuracy did not improve from 0.82428\n",
            "644/644 [==============================] - 54s 83ms/step - loss: 0.4442 - accuracy: 0.8302 - val_loss: 0.4673 - val_accuracy: 0.8086\n",
            "Epoch 7/70\n",
            "644/644 [==============================] - ETA: 0s - loss: 0.4347 - accuracy: 0.8373\n",
            "Epoch 00007: val_accuracy improved from 0.82428 to 0.82530, saving model to best_model1.hdf5\n",
            "644/644 [==============================] - 53s 83ms/step - loss: 0.4347 - accuracy: 0.8373 - val_loss: 0.4554 - val_accuracy: 0.8253\n",
            "Epoch 8/70\n",
            "644/644 [==============================] - ETA: 0s - loss: 0.4217 - accuracy: 0.8416\n",
            "Epoch 00008: val_accuracy improved from 0.82530 to 0.82778, saving model to best_model1.hdf5\n",
            "644/644 [==============================] - 51s 79ms/step - loss: 0.4217 - accuracy: 0.8416 - val_loss: 0.4501 - val_accuracy: 0.8278\n",
            "Epoch 9/70\n",
            "644/644 [==============================] - ETA: 0s - loss: 0.4120 - accuracy: 0.8459\n",
            "Epoch 00009: val_accuracy did not improve from 0.82778\n",
            "644/644 [==============================] - 53s 82ms/step - loss: 0.4120 - accuracy: 0.8459 - val_loss: 0.4504 - val_accuracy: 0.8275\n",
            "Epoch 10/70\n",
            "644/644 [==============================] - ETA: 0s - loss: 0.4062 - accuracy: 0.8475\n",
            "Epoch 00010: val_accuracy improved from 0.82778 to 0.82996, saving model to best_model1.hdf5\n",
            "644/644 [==============================] - 55s 85ms/step - loss: 0.4062 - accuracy: 0.8475 - val_loss: 0.4427 - val_accuracy: 0.8300\n",
            "Epoch 11/70\n",
            "644/644 [==============================] - ETA: 0s - loss: 0.4023 - accuracy: 0.8502\n",
            "Epoch 00011: val_accuracy improved from 0.82996 to 0.83185, saving model to best_model1.hdf5\n",
            "644/644 [==============================] - 55s 85ms/step - loss: 0.4023 - accuracy: 0.8502 - val_loss: 0.4394 - val_accuracy: 0.8319\n",
            "Epoch 12/70\n",
            "644/644 [==============================] - ETA: 0s - loss: 0.3914 - accuracy: 0.8545\n",
            "Epoch 00012: val_accuracy improved from 0.83185 to 0.83375, saving model to best_model1.hdf5\n",
            "644/644 [==============================] - 54s 83ms/step - loss: 0.3914 - accuracy: 0.8545 - val_loss: 0.4383 - val_accuracy: 0.8337\n",
            "Epoch 13/70\n",
            "644/644 [==============================] - ETA: 0s - loss: 0.3837 - accuracy: 0.8548\n",
            "Epoch 00013: val_accuracy did not improve from 0.83375\n",
            "644/644 [==============================] - 53s 82ms/step - loss: 0.3837 - accuracy: 0.8548 - val_loss: 0.4426 - val_accuracy: 0.8303\n",
            "Epoch 14/70\n",
            "644/644 [==============================] - ETA: 0s - loss: 0.3797 - accuracy: 0.8581\n",
            "Epoch 00014: val_accuracy improved from 0.83375 to 0.83491, saving model to best_model1.hdf5\n",
            "644/644 [==============================] - 51s 79ms/step - loss: 0.3797 - accuracy: 0.8581 - val_loss: 0.4369 - val_accuracy: 0.8349\n",
            "Epoch 15/70\n",
            "644/644 [==============================] - ETA: 0s - loss: 0.3767 - accuracy: 0.8595\n",
            "Epoch 00015: val_accuracy improved from 0.83491 to 0.83506, saving model to best_model1.hdf5\n",
            "644/644 [==============================] - 52s 80ms/step - loss: 0.3767 - accuracy: 0.8595 - val_loss: 0.4328 - val_accuracy: 0.8351\n",
            "Epoch 16/70\n",
            "644/644 [==============================] - ETA: 0s - loss: 0.3736 - accuracy: 0.8617\n",
            "Epoch 00016: val_accuracy did not improve from 0.83506\n",
            "644/644 [==============================] - 56s 86ms/step - loss: 0.3736 - accuracy: 0.8617 - val_loss: 0.4353 - val_accuracy: 0.8316\n",
            "Epoch 17/70\n",
            "644/644 [==============================] - ETA: 0s - loss: 0.3684 - accuracy: 0.8623\n",
            "Epoch 00017: val_accuracy did not improve from 0.83506\n",
            "644/644 [==============================] - 52s 81ms/step - loss: 0.3684 - accuracy: 0.8623 - val_loss: 0.4327 - val_accuracy: 0.8351\n",
            "Epoch 18/70\n",
            "644/644 [==============================] - ETA: 0s - loss: 0.3657 - accuracy: 0.8651\n",
            "Epoch 00018: val_accuracy improved from 0.83506 to 0.83637, saving model to best_model1.hdf5\n",
            "644/644 [==============================] - 52s 81ms/step - loss: 0.3657 - accuracy: 0.8651 - val_loss: 0.4294 - val_accuracy: 0.8364\n",
            "Epoch 19/70\n",
            "644/644 [==============================] - ETA: 0s - loss: 0.3623 - accuracy: 0.8670\n",
            "Epoch 00019: val_accuracy did not improve from 0.83637\n",
            "644/644 [==============================] - 53s 82ms/step - loss: 0.3623 - accuracy: 0.8670 - val_loss: 0.4392 - val_accuracy: 0.8343\n",
            "Epoch 20/70\n",
            "644/644 [==============================] - ETA: 0s - loss: 0.3616 - accuracy: 0.8677\n",
            "Epoch 00020: val_accuracy did not improve from 0.83637\n",
            "644/644 [==============================] - 54s 83ms/step - loss: 0.3616 - accuracy: 0.8677 - val_loss: 0.4311 - val_accuracy: 0.8335\n",
            "Epoch 21/70\n",
            "644/644 [==============================] - ETA: 0s - loss: 0.3575 - accuracy: 0.8669\n",
            "Epoch 00021: val_accuracy did not improve from 0.83637\n",
            "644/644 [==============================] - 57s 89ms/step - loss: 0.3575 - accuracy: 0.8669 - val_loss: 0.4268 - val_accuracy: 0.8361\n",
            "Epoch 22/70\n",
            "644/644 [==============================] - ETA: 0s - loss: 0.3536 - accuracy: 0.8707\n",
            "Epoch 00022: val_accuracy did not improve from 0.83637\n",
            "644/644 [==============================] - 54s 83ms/step - loss: 0.3536 - accuracy: 0.8707 - val_loss: 0.4407 - val_accuracy: 0.8281\n",
            "Epoch 23/70\n",
            "644/644 [==============================] - ETA: 0s - loss: 0.3557 - accuracy: 0.8690\n",
            "Epoch 00023: val_accuracy did not improve from 0.83637\n",
            "644/644 [==============================] - 53s 83ms/step - loss: 0.3557 - accuracy: 0.8690 - val_loss: 0.4300 - val_accuracy: 0.8362\n",
            "Epoch 24/70\n",
            "644/644 [==============================] - ETA: 0s - loss: 0.3504 - accuracy: 0.8710\n",
            "Epoch 00024: val_accuracy improved from 0.83637 to 0.83695, saving model to best_model1.hdf5\n",
            "644/644 [==============================] - 57s 89ms/step - loss: 0.3504 - accuracy: 0.8710 - val_loss: 0.4286 - val_accuracy: 0.8369\n",
            "Epoch 25/70\n",
            "644/644 [==============================] - ETA: 0s - loss: 0.3538 - accuracy: 0.8685\n",
            "Epoch 00025: val_accuracy improved from 0.83695 to 0.83913, saving model to best_model1.hdf5\n",
            "644/644 [==============================] - 51s 79ms/step - loss: 0.3538 - accuracy: 0.8685 - val_loss: 0.4294 - val_accuracy: 0.8391\n",
            "Epoch 26/70\n",
            "644/644 [==============================] - ETA: 0s - loss: 0.3471 - accuracy: 0.8717\n",
            "Epoch 00026: val_accuracy did not improve from 0.83913\n",
            "644/644 [==============================] - 52s 80ms/step - loss: 0.3471 - accuracy: 0.8717 - val_loss: 0.4303 - val_accuracy: 0.8371\n",
            "Epoch 27/70\n",
            "644/644 [==============================] - ETA: 0s - loss: 0.3469 - accuracy: 0.8720\n",
            "Epoch 00027: val_accuracy did not improve from 0.83913\n",
            "644/644 [==============================] - 52s 80ms/step - loss: 0.3469 - accuracy: 0.8720 - val_loss: 0.4268 - val_accuracy: 0.8386\n",
            "Epoch 28/70\n",
            "644/644 [==============================] - ETA: 0s - loss: 0.3452 - accuracy: 0.8733\n",
            "Epoch 00028: val_accuracy improved from 0.83913 to 0.84001, saving model to best_model1.hdf5\n",
            "644/644 [==============================] - 54s 84ms/step - loss: 0.3452 - accuracy: 0.8733 - val_loss: 0.4237 - val_accuracy: 0.8400\n",
            "Epoch 29/70\n",
            "644/644 [==============================] - ETA: 0s - loss: 0.3418 - accuracy: 0.8743\n",
            "Epoch 00029: val_accuracy did not improve from 0.84001\n",
            "644/644 [==============================] - 53s 83ms/step - loss: 0.3418 - accuracy: 0.8743 - val_loss: 0.4269 - val_accuracy: 0.8387\n",
            "Epoch 30/70\n",
            "644/644 [==============================] - ETA: 0s - loss: 0.3414 - accuracy: 0.8754\n",
            "Epoch 00030: val_accuracy did not improve from 0.84001\n",
            "644/644 [==============================] - 51s 79ms/step - loss: 0.3414 - accuracy: 0.8754 - val_loss: 0.4251 - val_accuracy: 0.8387\n",
            "Epoch 31/70\n",
            "644/644 [==============================] - ETA: 0s - loss: 0.3425 - accuracy: 0.8750\n",
            "Epoch 00031: val_accuracy did not improve from 0.84001\n",
            "644/644 [==============================] - 54s 84ms/step - loss: 0.3425 - accuracy: 0.8750 - val_loss: 0.4238 - val_accuracy: 0.8365\n",
            "Epoch 32/70\n",
            "644/644 [==============================] - ETA: 0s - loss: 0.3429 - accuracy: 0.8744\n",
            "Epoch 00032: val_accuracy did not improve from 0.84001\n",
            "644/644 [==============================] - 54s 83ms/step - loss: 0.3429 - accuracy: 0.8744 - val_loss: 0.4296 - val_accuracy: 0.8391\n",
            "Epoch 33/70\n",
            "644/644 [==============================] - ETA: 0s - loss: 0.3377 - accuracy: 0.8756\n",
            "Epoch 00033: val_accuracy did not improve from 0.84001\n",
            "644/644 [==============================] - 56s 87ms/step - loss: 0.3377 - accuracy: 0.8756 - val_loss: 0.4255 - val_accuracy: 0.8378\n",
            "Epoch 34/70\n",
            "644/644 [==============================] - ETA: 0s - loss: 0.3354 - accuracy: 0.8779\n",
            "Epoch 00034: val_accuracy improved from 0.84001 to 0.84059, saving model to best_model1.hdf5\n",
            "644/644 [==============================] - 53s 82ms/step - loss: 0.3354 - accuracy: 0.8779 - val_loss: 0.4331 - val_accuracy: 0.8406\n",
            "Epoch 35/70\n",
            "644/644 [==============================] - ETA: 0s - loss: 0.3391 - accuracy: 0.8750\n",
            "Epoch 00035: val_accuracy did not improve from 0.84059\n",
            "644/644 [==============================] - 54s 84ms/step - loss: 0.3391 - accuracy: 0.8750 - val_loss: 0.4247 - val_accuracy: 0.8380\n",
            "Epoch 36/70\n",
            "644/644 [==============================] - ETA: 0s - loss: 0.3373 - accuracy: 0.8761\n",
            "Epoch 00036: val_accuracy did not improve from 0.84059\n",
            "644/644 [==============================] - 53s 83ms/step - loss: 0.3373 - accuracy: 0.8761 - val_loss: 0.4295 - val_accuracy: 0.8403\n",
            "Epoch 37/70\n",
            "644/644 [==============================] - ETA: 0s - loss: 0.3364 - accuracy: 0.8753\n",
            "Epoch 00037: val_accuracy improved from 0.84059 to 0.84102, saving model to best_model1.hdf5\n",
            "644/644 [==============================] - 51s 79ms/step - loss: 0.3364 - accuracy: 0.8753 - val_loss: 0.4247 - val_accuracy: 0.8410\n",
            "Epoch 38/70\n",
            "644/644 [==============================] - ETA: 0s - loss: 0.3331 - accuracy: 0.8766\n",
            "Epoch 00038: val_accuracy did not improve from 0.84102\n",
            "644/644 [==============================] - 52s 81ms/step - loss: 0.3331 - accuracy: 0.8766 - val_loss: 0.4257 - val_accuracy: 0.8394\n",
            "Epoch 39/70\n",
            "644/644 [==============================] - ETA: 0s - loss: 0.3367 - accuracy: 0.8757\n",
            "Epoch 00039: val_accuracy improved from 0.84102 to 0.84117, saving model to best_model1.hdf5\n",
            "644/644 [==============================] - 52s 81ms/step - loss: 0.3367 - accuracy: 0.8757 - val_loss: 0.4277 - val_accuracy: 0.8412\n",
            "Epoch 40/70\n",
            "644/644 [==============================] - ETA: 0s - loss: 0.3304 - accuracy: 0.8790\n",
            "Epoch 00040: val_accuracy did not improve from 0.84117\n",
            "644/644 [==============================] - 54s 84ms/step - loss: 0.3304 - accuracy: 0.8790 - val_loss: 0.4246 - val_accuracy: 0.8412\n",
            "Epoch 41/70\n",
            "644/644 [==============================] - ETA: 0s - loss: 0.3307 - accuracy: 0.8778\n",
            "Epoch 00041: val_accuracy did not improve from 0.84117\n",
            "644/644 [==============================] - 52s 81ms/step - loss: 0.3307 - accuracy: 0.8778 - val_loss: 0.4320 - val_accuracy: 0.8365\n",
            "Epoch 42/70\n",
            "644/644 [==============================] - ETA: 0s - loss: 0.3292 - accuracy: 0.8773\n",
            "Epoch 00042: val_accuracy did not improve from 0.84117\n",
            "644/644 [==============================] - 52s 81ms/step - loss: 0.3292 - accuracy: 0.8773 - val_loss: 0.4338 - val_accuracy: 0.8409\n",
            "Epoch 43/70\n",
            "644/644 [==============================] - ETA: 0s - loss: 0.3304 - accuracy: 0.8811\n",
            "Epoch 00043: val_accuracy improved from 0.84117 to 0.84175, saving model to best_model1.hdf5\n",
            "644/644 [==============================] - 53s 82ms/step - loss: 0.3304 - accuracy: 0.8811 - val_loss: 0.4260 - val_accuracy: 0.8418\n",
            "Epoch 44/70\n",
            "644/644 [==============================] - ETA: 0s - loss: 0.3280 - accuracy: 0.8796\n",
            "Epoch 00044: val_accuracy did not improve from 0.84175\n",
            "644/644 [==============================] - 56s 87ms/step - loss: 0.3280 - accuracy: 0.8796 - val_loss: 0.4269 - val_accuracy: 0.8415\n",
            "Epoch 45/70\n",
            "644/644 [==============================] - ETA: 0s - loss: 0.3312 - accuracy: 0.8774\n",
            "Epoch 00045: val_accuracy improved from 0.84175 to 0.84350, saving model to best_model1.hdf5\n",
            "644/644 [==============================] - 54s 84ms/step - loss: 0.3312 - accuracy: 0.8774 - val_loss: 0.4268 - val_accuracy: 0.8435\n",
            "Epoch 46/70\n",
            "644/644 [==============================] - ETA: 0s - loss: 0.3298 - accuracy: 0.8782\n",
            "Epoch 00046: val_accuracy did not improve from 0.84350\n",
            "644/644 [==============================] - 53s 83ms/step - loss: 0.3298 - accuracy: 0.8782 - val_loss: 0.4300 - val_accuracy: 0.8429\n",
            "Epoch 47/70\n",
            "644/644 [==============================] - ETA: 0s - loss: 0.3285 - accuracy: 0.8807\n",
            "Epoch 00047: val_accuracy did not improve from 0.84350\n",
            "644/644 [==============================] - 57s 88ms/step - loss: 0.3285 - accuracy: 0.8807 - val_loss: 0.4300 - val_accuracy: 0.8415\n",
            "Epoch 48/70\n",
            "644/644 [==============================] - ETA: 0s - loss: 0.3257 - accuracy: 0.8796\n",
            "Epoch 00048: val_accuracy did not improve from 0.84350\n",
            "644/644 [==============================] - 58s 90ms/step - loss: 0.3257 - accuracy: 0.8796 - val_loss: 0.4306 - val_accuracy: 0.8406\n",
            "Epoch 49/70\n",
            "644/644 [==============================] - ETA: 0s - loss: 0.3237 - accuracy: 0.8798\n",
            "Epoch 00049: val_accuracy did not improve from 0.84350\n",
            "644/644 [==============================] - 57s 89ms/step - loss: 0.3237 - accuracy: 0.8798 - val_loss: 0.4346 - val_accuracy: 0.8368\n",
            "Epoch 50/70\n",
            "644/644 [==============================] - ETA: 0s - loss: 0.3274 - accuracy: 0.8816\n",
            "Epoch 00050: val_accuracy improved from 0.84350 to 0.84423, saving model to best_model1.hdf5\n",
            "644/644 [==============================] - 56s 87ms/step - loss: 0.3274 - accuracy: 0.8816 - val_loss: 0.4340 - val_accuracy: 0.8442\n",
            "Epoch 51/70\n",
            "644/644 [==============================] - ETA: 0s - loss: 0.3262 - accuracy: 0.8800\n",
            "Epoch 00051: val_accuracy did not improve from 0.84423\n",
            "644/644 [==============================] - 57s 88ms/step - loss: 0.3262 - accuracy: 0.8800 - val_loss: 0.4309 - val_accuracy: 0.8396\n",
            "Epoch 52/70\n",
            "644/644 [==============================] - ETA: 0s - loss: 0.3236 - accuracy: 0.8833\n",
            "Epoch 00052: val_accuracy did not improve from 0.84423\n",
            "644/644 [==============================] - 57s 88ms/step - loss: 0.3236 - accuracy: 0.8833 - val_loss: 0.4283 - val_accuracy: 0.8400\n",
            "Epoch 53/70\n",
            "644/644 [==============================] - ETA: 0s - loss: 0.3206 - accuracy: 0.8831\n",
            "Epoch 00053: val_accuracy did not improve from 0.84423\n",
            "644/644 [==============================] - 55s 85ms/step - loss: 0.3206 - accuracy: 0.8831 - val_loss: 0.4310 - val_accuracy: 0.8377\n",
            "Epoch 54/70\n",
            "644/644 [==============================] - ETA: 0s - loss: 0.3177 - accuracy: 0.8843\n",
            "Epoch 00054: val_accuracy improved from 0.84423 to 0.84525, saving model to best_model1.hdf5\n",
            "644/644 [==============================] - 55s 85ms/step - loss: 0.3177 - accuracy: 0.8843 - val_loss: 0.4335 - val_accuracy: 0.8452\n",
            "Epoch 55/70\n",
            "644/644 [==============================] - ETA: 0s - loss: 0.3218 - accuracy: 0.8832\n",
            "Epoch 00055: val_accuracy did not improve from 0.84525\n",
            "644/644 [==============================] - 53s 82ms/step - loss: 0.3218 - accuracy: 0.8832 - val_loss: 0.4318 - val_accuracy: 0.8396\n",
            "Epoch 56/70\n",
            "644/644 [==============================] - ETA: 0s - loss: 0.3198 - accuracy: 0.8831\n",
            "Epoch 00056: val_accuracy did not improve from 0.84525\n",
            "644/644 [==============================] - 53s 83ms/step - loss: 0.3198 - accuracy: 0.8831 - val_loss: 0.4308 - val_accuracy: 0.8402\n",
            "Epoch 57/70\n",
            "644/644 [==============================] - ETA: 0s - loss: 0.3168 - accuracy: 0.8830\n",
            "Epoch 00057: val_accuracy did not improve from 0.84525\n",
            "644/644 [==============================] - 55s 86ms/step - loss: 0.3168 - accuracy: 0.8830 - val_loss: 0.4308 - val_accuracy: 0.8400\n",
            "Epoch 58/70\n",
            "644/644 [==============================] - ETA: 0s - loss: 0.3179 - accuracy: 0.8855\n",
            "Epoch 00058: val_accuracy did not improve from 0.84525\n",
            "644/644 [==============================] - 55s 86ms/step - loss: 0.3179 - accuracy: 0.8855 - val_loss: 0.4344 - val_accuracy: 0.8383\n",
            "Epoch 59/70\n",
            "644/644 [==============================] - ETA: 0s - loss: 0.3174 - accuracy: 0.8845\n",
            "Epoch 00059: val_accuracy did not improve from 0.84525\n",
            "644/644 [==============================] - 54s 84ms/step - loss: 0.3174 - accuracy: 0.8845 - val_loss: 0.4334 - val_accuracy: 0.8425\n",
            "Epoch 60/70\n",
            "644/644 [==============================] - ETA: 0s - loss: 0.3188 - accuracy: 0.8827\n",
            "Epoch 00060: val_accuracy did not improve from 0.84525\n",
            "644/644 [==============================] - 54s 85ms/step - loss: 0.3188 - accuracy: 0.8827 - val_loss: 0.4304 - val_accuracy: 0.8393\n",
            "Epoch 61/70\n",
            "644/644 [==============================] - ETA: 0s - loss: 0.3145 - accuracy: 0.8849\n",
            "Epoch 00061: val_accuracy did not improve from 0.84525\n",
            "644/644 [==============================] - 55s 85ms/step - loss: 0.3145 - accuracy: 0.8849 - val_loss: 0.4320 - val_accuracy: 0.8406\n",
            "Epoch 62/70\n",
            "644/644 [==============================] - ETA: 0s - loss: 0.3101 - accuracy: 0.8856\n",
            "Epoch 00062: val_accuracy did not improve from 0.84525\n",
            "644/644 [==============================] - 56s 87ms/step - loss: 0.3101 - accuracy: 0.8856 - val_loss: 0.4395 - val_accuracy: 0.8367\n",
            "Epoch 63/70\n",
            "644/644 [==============================] - ETA: 0s - loss: 0.3114 - accuracy: 0.8851\n",
            "Epoch 00063: val_accuracy did not improve from 0.84525\n",
            "644/644 [==============================] - 55s 86ms/step - loss: 0.3114 - accuracy: 0.8851 - val_loss: 0.4319 - val_accuracy: 0.8406\n",
            "Epoch 64/70\n",
            "644/644 [==============================] - ETA: 0s - loss: 0.3117 - accuracy: 0.8890\n",
            "Epoch 00064: val_accuracy did not improve from 0.84525\n",
            "644/644 [==============================] - 55s 86ms/step - loss: 0.3117 - accuracy: 0.8890 - val_loss: 0.4363 - val_accuracy: 0.8431\n",
            "Epoch 65/70\n",
            "644/644 [==============================] - ETA: 0s - loss: 0.3166 - accuracy: 0.8839\n",
            "Epoch 00065: val_accuracy did not improve from 0.84525\n",
            "644/644 [==============================] - 56s 87ms/step - loss: 0.3166 - accuracy: 0.8839 - val_loss: 0.4327 - val_accuracy: 0.8409\n",
            "Epoch 66/70\n",
            "644/644 [==============================] - ETA: 0s - loss: 0.3147 - accuracy: 0.8867\n",
            "Epoch 00066: val_accuracy did not improve from 0.84525\n",
            "644/644 [==============================] - 55s 85ms/step - loss: 0.3147 - accuracy: 0.8867 - val_loss: 0.4342 - val_accuracy: 0.8418\n",
            "Epoch 67/70\n",
            "644/644 [==============================] - ETA: 0s - loss: 0.3089 - accuracy: 0.8867\n",
            "Epoch 00067: val_accuracy did not improve from 0.84525\n",
            "644/644 [==============================] - 55s 85ms/step - loss: 0.3089 - accuracy: 0.8867 - val_loss: 0.4414 - val_accuracy: 0.8353\n",
            "Epoch 68/70\n",
            "644/644 [==============================] - ETA: 0s - loss: 0.3092 - accuracy: 0.8879\n",
            "Epoch 00068: val_accuracy did not improve from 0.84525\n",
            "644/644 [==============================] - 58s 91ms/step - loss: 0.3092 - accuracy: 0.8879 - val_loss: 0.4402 - val_accuracy: 0.8404\n",
            "Epoch 69/70\n",
            "644/644 [==============================] - ETA: 0s - loss: 0.3105 - accuracy: 0.8870\n",
            "Epoch 00069: val_accuracy did not improve from 0.84525\n",
            "644/644 [==============================] - 54s 84ms/step - loss: 0.3105 - accuracy: 0.8870 - val_loss: 0.4335 - val_accuracy: 0.8390\n",
            "Epoch 70/70\n",
            "644/644 [==============================] - ETA: 0s - loss: 0.3066 - accuracy: 0.8886\n",
            "Epoch 00070: val_accuracy did not improve from 0.84525\n",
            "644/644 [==============================] - 55s 85ms/step - loss: 0.3066 - accuracy: 0.8886 - val_loss: 0.4287 - val_accuracy: 0.8448\n"
          ],
          "name": "stdout"
        }
      ]
    },
    {
      "cell_type": "code",
      "metadata": {
        "colab": {
          "base_uri": "https://localhost:8080/"
        },
        "id": "ll5txPh3NY8x",
        "outputId": "41192631-1f4b-480e-d5cb-64c3aba8f85a"
      },
      "source": [
        "#Let's load the best model obtained during training\n",
        "best_model = keras.models.load_model(\"best_model1.hdf5\")\n",
        "\n",
        "test_loss, test_acc = best_model.evaluate(X_test, y_test, verbose=2)\n",
        "print('Model accuracy: ',test_acc)"
      ],
      "execution_count": null,
      "outputs": [
        {
          "output_type": "stream",
          "text": [
            "215/215 - 3s - loss: 0.4335 - accuracy: 0.8452\n",
            "Model accuracy:  0.8452467322349548\n"
          ],
          "name": "stdout"
        }
      ]
    }
  ]
}