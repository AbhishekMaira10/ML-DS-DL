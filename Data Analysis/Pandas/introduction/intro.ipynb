{
 "cells": [
  {
   "cell_type": "code",
   "execution_count": 3,
   "metadata": {},
   "outputs": [],
   "source": [
    "import pandas as pd"
   ]
  },
  {
   "cell_type": "code",
   "execution_count": 4,
   "metadata": {},
   "outputs": [],
   "source": [
    "df = pd.read_csv('Datasets\\developer_survey_2019\\survey_results_public.csv')"
   ]
  },
  {
   "cell_type": "code",
   "execution_count": 5,
   "metadata": {},
   "outputs": [
    {
     "output_type": "execute_result",
     "data": {
      "text/plain": "(88883, 85)"
     },
     "metadata": {},
     "execution_count": 5
    }
   ],
   "source": [
    "df.shape"
   ]
  },
  {
   "cell_type": "code",
   "execution_count": 6,
   "metadata": {},
   "outputs": [],
   "source": [
    "pd.set_option('display.max_columns', 85)\n",
    "pd.set_option('display.max_rows', 85)"
   ]
  },
  {
   "cell_type": "code",
   "execution_count": 8,
   "metadata": {},
   "outputs": [],
   "source": [
    "\n",
    "schema_df = pd.read_csv('Datasets\\developer_survey_2019\\survey_results_schema.csv')"
   ]
  },
  {
   "cell_type": "code",
   "execution_count": 9,
   "metadata": {},
   "outputs": [
    {
     "output_type": "execute_result",
     "data": {
      "text/plain": "                    Column                                       QuestionText\n0               Respondent  Randomized respondent ID number (not in order ...\n1               MainBranch  Which of the following options best describes ...\n2                 Hobbyist                            Do you code as a hobby?\n3              OpenSourcer        How often do you contribute to open source?\n4               OpenSource  How do you feel about the quality of open sour...\n5               Employment  Which of the following best describes your cur...\n6                  Country          In which country do you currently reside?\n7                  Student  Are you currently enrolled in a formal, degree...\n8                  EdLevel  Which of the following best describes the high...\n9           UndergradMajor  What was your main or most important field of ...\n10                EduOther  Which of the following types of non-degree edu...\n11                 OrgSize  Approximately how many people are employed by ...\n12                 DevType  Which of the following describe you? Please se...\n13               YearsCode  Including any education, how many years have y...\n14              Age1stCode  At what age did you write your first line of c...\n15            YearsCodePro  How many years have you coded professionally (...\n16               CareerSat  Overall, how satisfied are you with your caree...\n17                  JobSat  How satisfied are you with your current job? (...\n18                MgrIdiot  How confident are you that your manager knows ...\n19                MgrMoney  Do you believe that you need to be a manager t...\n20                 MgrWant  Do you want to become a manager yourself in th...\n21                 JobSeek  Which of the following best describes your cur...\n22            LastHireDate  When was the last time that you took a job wit...\n23                 LastInt  In your most recent successful job interview (...\n24                FizzBuzz  Have you ever been asked to solve FizzBuzz in ...\n25              JobFactors  Imagine that you are deciding between two job ...\n26            ResumeUpdate  Think back to the last time you updated your r...\n27          CurrencySymbol  Which currency do you use day-to-day? If your ...\n28            CurrencyDesc  Which currency do you use day-to-day? If your ...\n29               CompTotal  What is your current total compensation (salar...\n30                CompFreq   Is that compensation weekly, monthly, or yearly?\n31           ConvertedComp  Salary converted to annual USD salaries using ...\n32             WorkWeekHrs   On average, how many hours per week do you work?\n33                WorkPlan            How structured or planned is your work?\n34           WorkChallenge  Of these options, what are your greatest chall...\n35              WorkRemote                    How often do you work remotely?\n36                 WorkLoc                    Where would you prefer to work?\n37                  ImpSyn  For the specific work you do, and the years of...\n38                 CodeRev           Do you review code as part of your work?\n39              CodeRevHrs  On average, how many hours per week do you spe...\n40               UnitTests  Does your company regularly employ unit tests ...\n41             PurchaseHow  How does your company make decisions about pur...\n42            PurchaseWhat  What level of influence do you, personally, ha...\n43      LanguageWorkedWith  Which of the following programming, scripting,...\n44  LanguageDesireNextYear  Which of the following programming, scripting,...\n45      DatabaseWorkedWith  Which of the following database environments h...\n46  DatabaseDesireNextYear  Which of the following database environments h...\n47      PlatformWorkedWith  Which of the following platforms have you done...\n48  PlatformDesireNextYear  Which of the following platforms have you done...\n49      WebFrameWorkedWith  Which of the following web frameworks have you...\n50  WebFrameDesireNextYear  Which of the following web frameworks have you...\n51      MiscTechWorkedWith  Which of the following other frameworks, libra...\n52  MiscTechDesireNextYear  Which of the following other frameworks, libra...\n53              DevEnviron  Which development environment(s) do you use re...\n54                   OpSys  What is the primary operating system in which ...\n55              Containers  How do you use containers (Docker, Open Contai...\n56           BlockchainOrg  How is your organization thinking about or imp...\n57            BlockchainIs  Blockchain / cryptocurrency technology is prim...\n58              BetterLife  Do you think people born today will have a bet...\n59                ITperson   Are you the \"IT support person\" for your family?\n60                   OffOn        Have you tried turning it off and on again?\n61             SocialMedia        What social media site do you use the most?\n62            Extraversion    Do you prefer online chat or IRL conversations?\n63              ScreenName                               What do you call it?\n64              SOVisit1st  To the best of your memory, when did you first...\n65             SOVisitFreq  How frequently would you say you visit Stack O...\n66               SOVisitTo  I visit Stack Overflow to... (check all that a...\n67            SOFindAnswer  On average, how many times a week do you find ...\n68             SOTimeSaved  Think back to the last time you solved a codin...\n69           SOHowMuchTime  About how much time did you save? If you're no...\n70               SOAccount              Do you have a Stack Overflow account?\n71              SOPartFreq  How frequently would you say you participate i...\n72                  SOJobs  Have you ever used or visited Stack Overflow J...\n73                EntTeams  Have you ever used Stack Overflow for Enterpri...\n74                  SOComm  Do you consider yourself a member of the Stack...\n75           WelcomeChange  Compared to last year, how welcome do you feel...\n76            SONewContent  Would you like to see any of the following on ...\n77                     Age  What is your age (in years)? If you prefer not...\n78                  Gender  Which of the following do you currently identi...\n79                   Trans                    Do you identify as transgender?\n80               Sexuality  Which of the following do you currently identi...\n81               Ethnicity  Which of the following do you identify as? Ple...\n82              Dependents  Do you have any dependents (e.g., children, el...\n83            SurveyLength  How do you feel about the length of the survey...\n84              SurveyEase  How easy or difficult was this survey to compl...",
      "text/html": "<div>\n<style scoped>\n    .dataframe tbody tr th:only-of-type {\n        vertical-align: middle;\n    }\n\n    .dataframe tbody tr th {\n        vertical-align: top;\n    }\n\n    .dataframe thead th {\n        text-align: right;\n    }\n</style>\n<table border=\"1\" class=\"dataframe\">\n  <thead>\n    <tr style=\"text-align: right;\">\n      <th></th>\n      <th>Column</th>\n      <th>QuestionText</th>\n    </tr>\n  </thead>\n  <tbody>\n    <tr>\n      <th>0</th>\n      <td>Respondent</td>\n      <td>Randomized respondent ID number (not in order ...</td>\n    </tr>\n    <tr>\n      <th>1</th>\n      <td>MainBranch</td>\n      <td>Which of the following options best describes ...</td>\n    </tr>\n    <tr>\n      <th>2</th>\n      <td>Hobbyist</td>\n      <td>Do you code as a hobby?</td>\n    </tr>\n    <tr>\n      <th>3</th>\n      <td>OpenSourcer</td>\n      <td>How often do you contribute to open source?</td>\n    </tr>\n    <tr>\n      <th>4</th>\n      <td>OpenSource</td>\n      <td>How do you feel about the quality of open sour...</td>\n    </tr>\n    <tr>\n      <th>5</th>\n      <td>Employment</td>\n      <td>Which of the following best describes your cur...</td>\n    </tr>\n    <tr>\n      <th>6</th>\n      <td>Country</td>\n      <td>In which country do you currently reside?</td>\n    </tr>\n    <tr>\n      <th>7</th>\n      <td>Student</td>\n      <td>Are you currently enrolled in a formal, degree...</td>\n    </tr>\n    <tr>\n      <th>8</th>\n      <td>EdLevel</td>\n      <td>Which of the following best describes the high...</td>\n    </tr>\n    <tr>\n      <th>9</th>\n      <td>UndergradMajor</td>\n      <td>What was your main or most important field of ...</td>\n    </tr>\n    <tr>\n      <th>10</th>\n      <td>EduOther</td>\n      <td>Which of the following types of non-degree edu...</td>\n    </tr>\n    <tr>\n      <th>11</th>\n      <td>OrgSize</td>\n      <td>Approximately how many people are employed by ...</td>\n    </tr>\n    <tr>\n      <th>12</th>\n      <td>DevType</td>\n      <td>Which of the following describe you? Please se...</td>\n    </tr>\n    <tr>\n      <th>13</th>\n      <td>YearsCode</td>\n      <td>Including any education, how many years have y...</td>\n    </tr>\n    <tr>\n      <th>14</th>\n      <td>Age1stCode</td>\n      <td>At what age did you write your first line of c...</td>\n    </tr>\n    <tr>\n      <th>15</th>\n      <td>YearsCodePro</td>\n      <td>How many years have you coded professionally (...</td>\n    </tr>\n    <tr>\n      <th>16</th>\n      <td>CareerSat</td>\n      <td>Overall, how satisfied are you with your caree...</td>\n    </tr>\n    <tr>\n      <th>17</th>\n      <td>JobSat</td>\n      <td>How satisfied are you with your current job? (...</td>\n    </tr>\n    <tr>\n      <th>18</th>\n      <td>MgrIdiot</td>\n      <td>How confident are you that your manager knows ...</td>\n    </tr>\n    <tr>\n      <th>19</th>\n      <td>MgrMoney</td>\n      <td>Do you believe that you need to be a manager t...</td>\n    </tr>\n    <tr>\n      <th>20</th>\n      <td>MgrWant</td>\n      <td>Do you want to become a manager yourself in th...</td>\n    </tr>\n    <tr>\n      <th>21</th>\n      <td>JobSeek</td>\n      <td>Which of the following best describes your cur...</td>\n    </tr>\n    <tr>\n      <th>22</th>\n      <td>LastHireDate</td>\n      <td>When was the last time that you took a job wit...</td>\n    </tr>\n    <tr>\n      <th>23</th>\n      <td>LastInt</td>\n      <td>In your most recent successful job interview (...</td>\n    </tr>\n    <tr>\n      <th>24</th>\n      <td>FizzBuzz</td>\n      <td>Have you ever been asked to solve FizzBuzz in ...</td>\n    </tr>\n    <tr>\n      <th>25</th>\n      <td>JobFactors</td>\n      <td>Imagine that you are deciding between two job ...</td>\n    </tr>\n    <tr>\n      <th>26</th>\n      <td>ResumeUpdate</td>\n      <td>Think back to the last time you updated your r...</td>\n    </tr>\n    <tr>\n      <th>27</th>\n      <td>CurrencySymbol</td>\n      <td>Which currency do you use day-to-day? If your ...</td>\n    </tr>\n    <tr>\n      <th>28</th>\n      <td>CurrencyDesc</td>\n      <td>Which currency do you use day-to-day? If your ...</td>\n    </tr>\n    <tr>\n      <th>29</th>\n      <td>CompTotal</td>\n      <td>What is your current total compensation (salar...</td>\n    </tr>\n    <tr>\n      <th>30</th>\n      <td>CompFreq</td>\n      <td>Is that compensation weekly, monthly, or yearly?</td>\n    </tr>\n    <tr>\n      <th>31</th>\n      <td>ConvertedComp</td>\n      <td>Salary converted to annual USD salaries using ...</td>\n    </tr>\n    <tr>\n      <th>32</th>\n      <td>WorkWeekHrs</td>\n      <td>On average, how many hours per week do you work?</td>\n    </tr>\n    <tr>\n      <th>33</th>\n      <td>WorkPlan</td>\n      <td>How structured or planned is your work?</td>\n    </tr>\n    <tr>\n      <th>34</th>\n      <td>WorkChallenge</td>\n      <td>Of these options, what are your greatest chall...</td>\n    </tr>\n    <tr>\n      <th>35</th>\n      <td>WorkRemote</td>\n      <td>How often do you work remotely?</td>\n    </tr>\n    <tr>\n      <th>36</th>\n      <td>WorkLoc</td>\n      <td>Where would you prefer to work?</td>\n    </tr>\n    <tr>\n      <th>37</th>\n      <td>ImpSyn</td>\n      <td>For the specific work you do, and the years of...</td>\n    </tr>\n    <tr>\n      <th>38</th>\n      <td>CodeRev</td>\n      <td>Do you review code as part of your work?</td>\n    </tr>\n    <tr>\n      <th>39</th>\n      <td>CodeRevHrs</td>\n      <td>On average, how many hours per week do you spe...</td>\n    </tr>\n    <tr>\n      <th>40</th>\n      <td>UnitTests</td>\n      <td>Does your company regularly employ unit tests ...</td>\n    </tr>\n    <tr>\n      <th>41</th>\n      <td>PurchaseHow</td>\n      <td>How does your company make decisions about pur...</td>\n    </tr>\n    <tr>\n      <th>42</th>\n      <td>PurchaseWhat</td>\n      <td>What level of influence do you, personally, ha...</td>\n    </tr>\n    <tr>\n      <th>43</th>\n      <td>LanguageWorkedWith</td>\n      <td>Which of the following programming, scripting,...</td>\n    </tr>\n    <tr>\n      <th>44</th>\n      <td>LanguageDesireNextYear</td>\n      <td>Which of the following programming, scripting,...</td>\n    </tr>\n    <tr>\n      <th>45</th>\n      <td>DatabaseWorkedWith</td>\n      <td>Which of the following database environments h...</td>\n    </tr>\n    <tr>\n      <th>46</th>\n      <td>DatabaseDesireNextYear</td>\n      <td>Which of the following database environments h...</td>\n    </tr>\n    <tr>\n      <th>47</th>\n      <td>PlatformWorkedWith</td>\n      <td>Which of the following platforms have you done...</td>\n    </tr>\n    <tr>\n      <th>48</th>\n      <td>PlatformDesireNextYear</td>\n      <td>Which of the following platforms have you done...</td>\n    </tr>\n    <tr>\n      <th>49</th>\n      <td>WebFrameWorkedWith</td>\n      <td>Which of the following web frameworks have you...</td>\n    </tr>\n    <tr>\n      <th>50</th>\n      <td>WebFrameDesireNextYear</td>\n      <td>Which of the following web frameworks have you...</td>\n    </tr>\n    <tr>\n      <th>51</th>\n      <td>MiscTechWorkedWith</td>\n      <td>Which of the following other frameworks, libra...</td>\n    </tr>\n    <tr>\n      <th>52</th>\n      <td>MiscTechDesireNextYear</td>\n      <td>Which of the following other frameworks, libra...</td>\n    </tr>\n    <tr>\n      <th>53</th>\n      <td>DevEnviron</td>\n      <td>Which development environment(s) do you use re...</td>\n    </tr>\n    <tr>\n      <th>54</th>\n      <td>OpSys</td>\n      <td>What is the primary operating system in which ...</td>\n    </tr>\n    <tr>\n      <th>55</th>\n      <td>Containers</td>\n      <td>How do you use containers (Docker, Open Contai...</td>\n    </tr>\n    <tr>\n      <th>56</th>\n      <td>BlockchainOrg</td>\n      <td>How is your organization thinking about or imp...</td>\n    </tr>\n    <tr>\n      <th>57</th>\n      <td>BlockchainIs</td>\n      <td>Blockchain / cryptocurrency technology is prim...</td>\n    </tr>\n    <tr>\n      <th>58</th>\n      <td>BetterLife</td>\n      <td>Do you think people born today will have a bet...</td>\n    </tr>\n    <tr>\n      <th>59</th>\n      <td>ITperson</td>\n      <td>Are you the \"IT support person\" for your family?</td>\n    </tr>\n    <tr>\n      <th>60</th>\n      <td>OffOn</td>\n      <td>Have you tried turning it off and on again?</td>\n    </tr>\n    <tr>\n      <th>61</th>\n      <td>SocialMedia</td>\n      <td>What social media site do you use the most?</td>\n    </tr>\n    <tr>\n      <th>62</th>\n      <td>Extraversion</td>\n      <td>Do you prefer online chat or IRL conversations?</td>\n    </tr>\n    <tr>\n      <th>63</th>\n      <td>ScreenName</td>\n      <td>What do you call it?</td>\n    </tr>\n    <tr>\n      <th>64</th>\n      <td>SOVisit1st</td>\n      <td>To the best of your memory, when did you first...</td>\n    </tr>\n    <tr>\n      <th>65</th>\n      <td>SOVisitFreq</td>\n      <td>How frequently would you say you visit Stack O...</td>\n    </tr>\n    <tr>\n      <th>66</th>\n      <td>SOVisitTo</td>\n      <td>I visit Stack Overflow to... (check all that a...</td>\n    </tr>\n    <tr>\n      <th>67</th>\n      <td>SOFindAnswer</td>\n      <td>On average, how many times a week do you find ...</td>\n    </tr>\n    <tr>\n      <th>68</th>\n      <td>SOTimeSaved</td>\n      <td>Think back to the last time you solved a codin...</td>\n    </tr>\n    <tr>\n      <th>69</th>\n      <td>SOHowMuchTime</td>\n      <td>About how much time did you save? If you're no...</td>\n    </tr>\n    <tr>\n      <th>70</th>\n      <td>SOAccount</td>\n      <td>Do you have a Stack Overflow account?</td>\n    </tr>\n    <tr>\n      <th>71</th>\n      <td>SOPartFreq</td>\n      <td>How frequently would you say you participate i...</td>\n    </tr>\n    <tr>\n      <th>72</th>\n      <td>SOJobs</td>\n      <td>Have you ever used or visited Stack Overflow J...</td>\n    </tr>\n    <tr>\n      <th>73</th>\n      <td>EntTeams</td>\n      <td>Have you ever used Stack Overflow for Enterpri...</td>\n    </tr>\n    <tr>\n      <th>74</th>\n      <td>SOComm</td>\n      <td>Do you consider yourself a member of the Stack...</td>\n    </tr>\n    <tr>\n      <th>75</th>\n      <td>WelcomeChange</td>\n      <td>Compared to last year, how welcome do you feel...</td>\n    </tr>\n    <tr>\n      <th>76</th>\n      <td>SONewContent</td>\n      <td>Would you like to see any of the following on ...</td>\n    </tr>\n    <tr>\n      <th>77</th>\n      <td>Age</td>\n      <td>What is your age (in years)? If you prefer not...</td>\n    </tr>\n    <tr>\n      <th>78</th>\n      <td>Gender</td>\n      <td>Which of the following do you currently identi...</td>\n    </tr>\n    <tr>\n      <th>79</th>\n      <td>Trans</td>\n      <td>Do you identify as transgender?</td>\n    </tr>\n    <tr>\n      <th>80</th>\n      <td>Sexuality</td>\n      <td>Which of the following do you currently identi...</td>\n    </tr>\n    <tr>\n      <th>81</th>\n      <td>Ethnicity</td>\n      <td>Which of the following do you identify as? Ple...</td>\n    </tr>\n    <tr>\n      <th>82</th>\n      <td>Dependents</td>\n      <td>Do you have any dependents (e.g., children, el...</td>\n    </tr>\n    <tr>\n      <th>83</th>\n      <td>SurveyLength</td>\n      <td>How do you feel about the length of the survey...</td>\n    </tr>\n    <tr>\n      <th>84</th>\n      <td>SurveyEase</td>\n      <td>How easy or difficult was this survey to compl...</td>\n    </tr>\n  </tbody>\n</table>\n</div>"
     },
     "metadata": {},
     "execution_count": 9
    }
   ],
   "source": [
    "\n",
    "schema_df"
   ]
  },
  {
   "cell_type": "code",
   "execution_count": null,
   "metadata": {},
   "outputs": [],
   "source": []
  }
 ],
 "metadata": {
  "language_info": {
   "codemirror_mode": {
    "name": "ipython",
    "version": 3
   },
   "file_extension": ".py",
   "mimetype": "text/x-python",
   "name": "python",
   "nbconvert_exporter": "python",
   "pygments_lexer": "ipython3",
   "version": "3.7.4-final"
  },
  "orig_nbformat": 2,
  "kernelspec": {
   "name": "python3",
   "display_name": "Python 3"
  }
 },
 "nbformat": 4,
 "nbformat_minor": 2
}