{
 "cells": [
  {
   "cell_type": "markdown",
   "metadata": {},
   "source": [
    "#### Predicting Bible Passage and Bible Authors Using Machine Learning\n",
    "+ Dataset : KJV"
   ]
  },
  {
   "cell_type": "code",
   "execution_count": null,
   "metadata": {},
   "outputs": [],
   "source": [
    "# Load EDA Pkgs\n",
    "import pandas as pd"
   ]
  },
  {
   "cell_type": "code",
   "execution_count": null,
   "metadata": {},
   "outputs": [],
   "source": [
    "# Load ML Pkgs\n",
    "from sklearn.feature_extraction.text import CountVectorizer\n",
    "from sklearn.model_selection import train_test_split\n",
    "from sklearn.naive_bayes import MultinomialNB"
   ]
  },
  {
   "cell_type": "code",
   "execution_count": null,
   "metadata": {},
   "outputs": [],
   "source": [
    "# Load Dataset\n"
   ]
  },
  {
   "cell_type": "code",
   "execution_count": null,
   "metadata": {},
   "outputs": [],
   "source": []
  },
  {
   "cell_type": "code",
   "execution_count": null,
   "metadata": {},
   "outputs": [],
   "source": [
    "# Columns\n"
   ]
  },
  {
   "cell_type": "code",
   "execution_count": null,
   "metadata": {},
   "outputs": [],
   "source": [
    "# Find Unique Values\n"
   ]
  },
  {
   "cell_type": "code",
   "execution_count": null,
   "metadata": {},
   "outputs": [],
   "source": [
    "author_list = {\"Genesis\": \"Moses\",\n",
    "\"Exodus\": \"Moses\",\n",
    "\"Leviticus\": \"Moses\",\n",
    "\"Numbers\": \"Moses\",\n",
    "\"Deuteronomy\": \"Moses\",\n",
    "\"Joshua\": \"Joshua\",\n",
    "\"Judges\": \"Samuel, Nathan, Gad\",\n",
    "\"Ruth\": \"Samuel, Nathan, Gad\",\n",
    "\"1 Samuel (1 Kings)\": \"Samuel, Nathan, Gad\",\n",
    "\"2 Samuel (2 Kings)\": \"Samuel, Nathan, Gad\",\n",
    "\"1 Kings (3 Kings)\": \"Jeremiah\",\n",
    "\"2 Kings (4 Kings)\": \"Jeremiah\",\n",
    "\"1 Chronicles\": \"Ezra\",\n",
    "\"2 Chronicles\": \"Ezra\",\n",
    "\"Ezra\": \"Ezra\",\n",
    "\"Nehemiah\": \"Nehemiah, Ezra\",\n",
    "\"Esther\": \"Mordecai\",\n",
    "\"Job\": \"Job,Moses\",\n",
    "\"Psalms\": \"David,Asaph, Ezra, the sons of Korah, Heman, Ethan, Moses\",\n",
    "\"Proverbs\": \"Solomon ,Agur(30) and Lemuel(31)\",\n",
    "\"Ecclesiastes\": \"Solomon\",\n",
    "\"Song of Solomon (Canticles)\": \"Solomon\",\n",
    "\"Isaiah\": \"Isaiah\",\n",
    "\"Jeremiah\": \"Jeremiah\",\n",
    "\"Lamentations\": \"Jeremiah\",\n",
    "\"Ezekiel\": \"Ezekiel\",\n",
    "\"Daniel\": \"Daniel\",\n",
    "\"Hosea\": \"Hosea\",\n",
    "\"Joel\": \"Joel\",\n",
    "\"Amos\": \"Amos\",\n",
    "\"Obadiah\": \"Obadiah\",\n",
    "\"Jonah\": \"Jonah\",\n",
    "\"Micah\": \"Micah\",\n",
    "\"Nahum\": \"Nahum\",\n",
    "\"Habakkuk\": \"Habakkuk\",\n",
    "\"Zephaniah\": \"Zephaniah\",\n",
    "\"Haggai\": \"Haggai\",\n",
    "\"Zechariah\": \" Zechariah\",\n",
    "\"Malachi\": \"Malachi\",\n",
    "\"Matthew\": \"Matthew\",\n",
    "\"Mark\": \"John Mark\",\n",
    "\"Luke\": \"Luke\",\n",
    "\"John\": \"John, the Apostle\",\n",
    "\"Acts\": \"Luke\",\n",
    "\"Romans\": \"Paul\",\n",
    "\"1 Corinthians\": \"Paul\",\n",
    "\"2 Corinthians\": \"Paul\",\n",
    "\"Galatians\": \"Paul\",\n",
    "\"Ephesians\": \"Paul\",\n",
    "\"Philippians\": \"Paul\",\n",
    "\"Colossians\": \"Paul\",\n",
    "\"1 Thessalonians\": \"Paul\",\n",
    "\"2 Thessalonians\": \"Paul\",\n",
    "\"1 Timothy\": \"Paul\",\n",
    "\"2 Timothy\": \"Paul\",\n",
    "\"Titus\": \"Paul\",\n",
    "\"Philemon\": \"Paul\",\n",
    "\"Hebrews\": \"Paul, Luke, Barnabas, Apollos\",\n",
    "\"James\": \"James the brother of Jesus and Jude (not the Apostle, brother of John).\",\n",
    "\"1 Peter\": \"Peter\",\n",
    "\"2 Peter\": \"Peter\",\n",
    "\"1 John\": \"John, the Apostle\",\n",
    "\"2 John\": \"John, the Apostle\",\n",
    "\"3 John\": \"John, the Apostle\",\n",
    "\"Jude\": \"Jude, the brother of Jesus\",\n",
    "\"Revelation\": \"John, the Apostle\"}\n"
   ]
  },
  {
   "cell_type": "code",
   "execution_count": null,
   "metadata": {},
   "outputs": [],
   "source": [
    "# Map The Authors to their Books\n"
   ]
  },
  {
   "cell_type": "code",
   "execution_count": null,
   "metadata": {},
   "outputs": [],
   "source": []
  },
  {
   "cell_type": "code",
   "execution_count": null,
   "metadata": {},
   "outputs": [],
   "source": [
    "# Label Old and New Testament\n",
    "# 23214 = OT"
   ]
  },
  {
   "cell_type": "code",
   "execution_count": null,
   "metadata": {},
   "outputs": [],
   "source": [
    "# Copy"
   ]
  },
  {
   "cell_type": "code",
   "execution_count": null,
   "metadata": {},
   "outputs": [],
   "source": []
  },
  {
   "cell_type": "code",
   "execution_count": null,
   "metadata": {},
   "outputs": [],
   "source": []
  },
  {
   "cell_type": "code",
   "execution_count": null,
   "metadata": {},
   "outputs": [],
   "source": []
  },
  {
   "cell_type": "code",
   "execution_count": null,
   "metadata": {},
   "outputs": [],
   "source": [
    "#  Features\n"
   ]
  },
  {
   "cell_type": "code",
   "execution_count": null,
   "metadata": {},
   "outputs": [],
   "source": [
    "# Vectorization \n"
   ]
  },
  {
   "cell_type": "markdown",
   "metadata": {},
   "source": [
    "### Save Vectorizer\n"
   ]
  },
  {
   "cell_type": "code",
   "execution_count": null,
   "metadata": {},
   "outputs": [],
   "source": [
    "# Load Joblib\n"
   ]
  },
  {
   "cell_type": "code",
   "execution_count": null,
   "metadata": {},
   "outputs": [],
   "source": []
  },
  {
   "cell_type": "markdown",
   "metadata": {},
   "source": [
    "### Train Test Split"
   ]
  },
  {
   "cell_type": "code",
   "execution_count": null,
   "metadata": {},
   "outputs": [],
   "source": [
    "# X_train,X_test,y_train,y_test  = train_test_split(X,ylabel,test_size=0.33,random_state=42)"
   ]
  },
  {
   "cell_type": "code",
   "execution_count": null,
   "metadata": {},
   "outputs": [],
   "source": [
    "# Model Building For Naive Bayes\n",
    "\n"
   ]
  },
  {
   "cell_type": "code",
   "execution_count": null,
   "metadata": {},
   "outputs": [],
   "source": [
    "# Accuracy Score of our Model\n"
   ]
  },
  {
   "cell_type": "markdown",
   "metadata": {},
   "source": [
    "### Predicting A Passage\n",
    "+ Whether therefore ye eat,or drink,or whatsoever ye do,do all to the glory of God by Paul"
   ]
  },
  {
   "cell_type": "code",
   "execution_count": null,
   "metadata": {},
   "outputs": [],
   "source": [
    "sample_verse =[\"Whether therefore ye eat,or drink,or whatsoever ye do,do all to the glory of God\"]"
   ]
  },
  {
   "cell_type": "code",
   "execution_count": null,
   "metadata": {},
   "outputs": [],
   "source": [
    "# Vectorize Text\n"
   ]
  },
  {
   "cell_type": "code",
   "execution_count": null,
   "metadata": {},
   "outputs": [],
   "source": [
    "# Predict\n"
   ]
  },
  {
   "cell_type": "markdown",
   "metadata": {},
   "source": [
    "#### Save Model"
   ]
  },
  {
   "cell_type": "code",
   "execution_count": null,
   "metadata": {},
   "outputs": [],
   "source": []
  },
  {
   "cell_type": "code",
   "execution_count": null,
   "metadata": {},
   "outputs": [],
   "source": []
  },
  {
   "cell_type": "code",
   "execution_count": null,
   "metadata": {},
   "outputs": [],
   "source": []
  },
  {
   "cell_type": "markdown",
   "metadata": {},
   "source": [
    "#### Using Logistic Regression"
   ]
  },
  {
   "cell_type": "code",
   "execution_count": null,
   "metadata": {},
   "outputs": [],
   "source": [
    "from sklearn.linear_model import LogisticRegression\n",
    "from sklearn.metrics import accuracy_score"
   ]
  },
  {
   "cell_type": "code",
   "execution_count": null,
   "metadata": {},
   "outputs": [],
   "source": []
  },
  {
   "cell_type": "code",
   "execution_count": null,
   "metadata": {},
   "outputs": [],
   "source": [
    "# Check Accuracy"
   ]
  },
  {
   "cell_type": "markdown",
   "metadata": {},
   "source": [
    "#### Predicting with Logistic Regression Model\n",
    "+ Using Same Verse"
   ]
  },
  {
   "cell_type": "code",
   "execution_count": null,
   "metadata": {},
   "outputs": [],
   "source": []
  },
  {
   "cell_type": "code",
   "execution_count": null,
   "metadata": {},
   "outputs": [],
   "source": [
    "# Save Our Model\n"
   ]
  },
  {
   "cell_type": "code",
   "execution_count": null,
   "metadata": {},
   "outputs": [],
   "source": []
  },
  {
   "cell_type": "markdown",
   "metadata": {},
   "source": [
    "#### Prediction Location (Old Testament or New Testament)"
   ]
  },
  {
   "cell_type": "code",
   "execution_count": null,
   "metadata": {},
   "outputs": [],
   "source": [
    "#  Features & Labels"
   ]
  },
  {
   "cell_type": "code",
   "execution_count": null,
   "metadata": {},
   "outputs": [],
   "source": [
    "# Vectorization \n"
   ]
  },
  {
   "cell_type": "code",
   "execution_count": null,
   "metadata": {},
   "outputs": [],
   "source": [
    "#X_train2,X_test2,y_train2,y_test2  = train_test_split(X2,ylabel2,test_size=0.33,random_state=42)\n"
   ]
  },
  {
   "cell_type": "code",
   "execution_count": null,
   "metadata": {},
   "outputs": [],
   "source": [
    "# Model Building\n"
   ]
  },
  {
   "cell_type": "code",
   "execution_count": null,
   "metadata": {},
   "outputs": [],
   "source": [
    "# Accuracy Score of our Model\n"
   ]
  },
  {
   "cell_type": "markdown",
   "metadata": {},
   "source": [
    "### Predicting A Bible Passage"
   ]
  },
  {
   "cell_type": "code",
   "execution_count": null,
   "metadata": {},
   "outputs": [],
   "source": [
    "# Vectorize Text\n"
   ]
  },
  {
   "cell_type": "code",
   "execution_count": null,
   "metadata": {},
   "outputs": [],
   "source": []
  },
  {
   "cell_type": "markdown",
   "metadata": {},
   "source": [
    "#### Narative\n",
    "+ 1 represent New Testament"
   ]
  },
  {
   "cell_type": "code",
   "execution_count": null,
   "metadata": {},
   "outputs": [],
   "source": []
  },
  {
   "cell_type": "code",
   "execution_count": null,
   "metadata": {},
   "outputs": [],
   "source": []
  },
  {
   "cell_type": "markdown",
   "metadata": {},
   "source": [
    "#### Using LogisticRegression"
   ]
  },
  {
   "cell_type": "code",
   "execution_count": null,
   "metadata": {},
   "outputs": [],
   "source": []
  },
  {
   "cell_type": "code",
   "execution_count": null,
   "metadata": {},
   "outputs": [],
   "source": [
    "# For Test Dataset\n"
   ]
  },
  {
   "cell_type": "code",
   "execution_count": null,
   "metadata": {},
   "outputs": [],
   "source": []
  },
  {
   "cell_type": "code",
   "execution_count": null,
   "metadata": {},
   "outputs": [],
   "source": []
  },
  {
   "cell_type": "code",
   "execution_count": null,
   "metadata": {},
   "outputs": [],
   "source": []
  },
  {
   "cell_type": "markdown",
   "metadata": {},
   "source": [
    "### Interpeting Model\n",
    "+ Eli5\n",
    "+ Lime"
   ]
  },
  {
   "cell_type": "code",
   "execution_count": null,
   "metadata": {},
   "outputs": [],
   "source": [
    "# Load Pkgs for Model Interpreting\n"
   ]
  },
  {
   "cell_type": "code",
   "execution_count": null,
   "metadata": {},
   "outputs": [],
   "source": [
    "# Show Weight For Our Model\n"
   ]
  },
  {
   "cell_type": "code",
   "execution_count": null,
   "metadata": {},
   "outputs": [],
   "source": []
  },
  {
   "cell_type": "code",
   "execution_count": null,
   "metadata": {},
   "outputs": [],
   "source": [
    "# Class Names"
   ]
  },
  {
   "cell_type": "code",
   "execution_count": null,
   "metadata": {},
   "outputs": [],
   "source": [
    "# Show Weights"
   ]
  },
  {
   "cell_type": "markdown",
   "metadata": {},
   "source": [
    "#### Show Explanation for A Single Prediction"
   ]
  },
  {
   "cell_type": "code",
   "execution_count": null,
   "metadata": {},
   "outputs": [],
   "source": [
    "# Load Numpy\n",
    "import numpy as np"
   ]
  },
  {
   "cell_type": "code",
   "execution_count": null,
   "metadata": {},
   "outputs": [],
   "source": [
    "# Convert the text to vectors anr reshape as a single sample with reshape(-1,1)\n"
   ]
  },
  {
   "cell_type": "code",
   "execution_count": null,
   "metadata": {},
   "outputs": [],
   "source": []
  },
  {
   "cell_type": "code",
   "execution_count": null,
   "metadata": {},
   "outputs": [],
   "source": [
    "### Multiple Sample Prediction\n",
    "sample_2 = [\" And it came to pass, when men began to multiply on the face of the earth, and daughters were born unto them,That the sons of God saw the daughters of men that they were fair; and they took them wives of all which they chose.And the Lord said, My spirit shall not always strive with man, for that he also is flesh: yet his days shall be an hundred and twenty years.\",\"Jesus wept\",\"Blessed are the meek for they shall inherit the earth\"]"
   ]
  },
  {
   "cell_type": "code",
   "execution_count": null,
   "metadata": {},
   "outputs": [],
   "source": []
  },
  {
   "cell_type": "code",
   "execution_count": null,
   "metadata": {},
   "outputs": [],
   "source": []
  },
  {
   "cell_type": "markdown",
   "metadata": {},
   "source": [
    "#### Thanks For Your Time\n",
    "+ Jesus Saves @JCharisTech\n",
    "+ By Jesse E.Agbe(JCharis)"
   ]
  },
  {
   "cell_type": "code",
   "execution_count": null,
   "metadata": {},
   "outputs": [],
   "source": []
  }
 ],
 "metadata": {
  "kernelspec": {
   "display_name": "Python 3",
   "language": "python",
   "name": "python3"
  },
  "language_info": {
   "codemirror_mode": {
    "name": "ipython",
    "version": 3
   },
   "file_extension": ".py",
   "mimetype": "text/x-python",
   "name": "python",
   "nbconvert_exporter": "python",
   "pygments_lexer": "ipython3",
   "version": "3.6.8"
  }
 },
 "nbformat": 4,
 "nbformat_minor": 2
}
